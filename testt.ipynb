{
 "cells": [
  {
   "cell_type": "code",
   "execution_count": 66,
   "metadata": {
    "collapsed": true
   },
   "outputs": [],
   "source": [
    "import numpy as np\n",
    "import csv\n",
    "import re\n",
    "import pdfplumber\n"
   ]
  },
  {
   "cell_type": "code",
   "execution_count": 67,
   "outputs": [],
   "source": [
    "\n",
    "from sklearn.preprocessing import StandardScaler\n",
    "from sklearn.cluster import DBSCAN\n",
    "\n",
    "\n",
    "def check(strr):\n",
    "    my_re = re.compile(r'[A-Za-z]', re.S)\n",
    "    res = re.findall(my_re, strr)\n",
    "    if len(res):\n",
    "        return True\n",
    "    else:\n",
    "        return False\n",
    "\n",
    "\n",
    "def dataset(filepath):\n",
    "    nname = []\n",
    "    iinformation = []\n",
    "    with open(filepath, 'r+') as f:\n",
    "        readers = csv.reader(f, delimiter=\",\")\n",
    "        x = list(readers)\n",
    "        data = np.array(x)\n",
    "        for line in data:\n",
    "            nname.append(line[0])\n",
    "            iinformation.append([np.double(line[i]) for i in range(1, len(line))])\n",
    "        return nname, iinformation\n",
    "\n",
    "\n",
    "def test_one(file_path):\n",
    "    pdf = pdfplumber.open(file_path)\n",
    "    page = pdf.pages[0]\n",
    "    word = page.extract_words(y_tolerance=-1)\n",
    "\n",
    "    with open(\"output_csv/\" + pdf.metadata['Title'] + \".csv\", 'w', newline='') as f:\n",
    "        for wword in word:\n",
    "            if check(wword['text']):\n",
    "                continue\n",
    "            # row = list(wword.values())[0:6]\n",
    "            # write = csv.writer(f)\n",
    "            # write.writerow(row)\n",
    "            elif wword['text'].__contains__('.'):\n",
    "                row = list(wword.values())[0:6]\n",
    "                write = csv.writer(f)\n",
    "                write.writerow(row)\n",
    "\n",
    "    name, information = dataset(\"output_csv/\" + pdf.metadata['Title'] + \".csv\")\n",
    "    # n_clusters = 11\n",
    "    # km = KMeans(n_clusters=n_clusters)\n",
    "    # label = km.fit_predict(information)\n",
    "    # Cluster = [[] for _ in range(n_clusters)]\n",
    "    # for i in range(len(name)):\n",
    "    #     Cluster[label[i]].append(name[i])\n",
    "    # # for i in range(len(Cluster)):\n",
    "    # #     print(Cluster[i])\n",
    "    # with open(\"result_csv/\" + pdf.metadata['Title'] + \".csv\", 'w', newline='') as f:\n",
    "    #     for cluster in Cluster:\n",
    "    #         write = csv.writer(f)\n",
    "    #         write.writerow(cluster)\n",
    "    X = StandardScaler().fit_transform(information)\n",
    "    db = DBSCAN(eps=0.3,min_samples=3).fit(X)\n",
    "    print(name)\n",
    "    print(db.labels_)\n",
    "    print(db.core_sample_indices_)"
   ],
   "metadata": {
    "collapsed": false,
    "pycharm": {
     "name": "#%%\n"
    }
   }
  },
  {
   "cell_type": "code",
   "execution_count": 68,
   "outputs": [
    {
     "name": "stdout",
     "output_type": "stream",
     "text": [
      "['0.55', '2.10', '0.30', '2.00', '0.25', '0.50', '1.90', '0.18', '0.65', '0.60', '0.55', '0.60', '0.05', '0.55', '0.02', '0.50', '0.20']\n",
      "[-1  0  1  0  1 -1  0  1  2  2  2  3 -1  3 -1  3 -1]\n",
      "[ 3  4  9 13]\n"
     ]
    }
   ],
   "source": [
    "\n",
    "path = \"data_pdf/cp_8_6.pdf\"\n",
    "test_one(path)"
   ],
   "metadata": {
    "collapsed": false,
    "pycharm": {
     "name": "#%%\n"
    }
   }
  }
 ],
 "metadata": {
  "kernelspec": {
   "display_name": "Python 3",
   "language": "python",
   "name": "python3"
  },
  "language_info": {
   "codemirror_mode": {
    "name": "ipython",
    "version": 2
   },
   "file_extension": ".py",
   "mimetype": "text/x-python",
   "name": "python",
   "nbconvert_exporter": "python",
   "pygments_lexer": "ipython2",
   "version": "2.7.6"
  }
 },
 "nbformat": 4,
 "nbformat_minor": 0
}