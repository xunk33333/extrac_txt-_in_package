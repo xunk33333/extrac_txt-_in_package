{
 "cells": [
  {
   "cell_type": "code",
   "execution_count": 51,
   "metadata": {
    "collapsed": true
   },
   "outputs": [],
   "source": [
    "import numpy as np\n",
    "import csv\n",
    "import re\n",
    "\n",
    "import pandas as pd\n",
    "import pdfplumber\n"
   ]
  },
  {
   "cell_type": "code",
   "execution_count": 52,
   "outputs": [],
   "source": [
    "\n",
    "from sklearn.preprocessing import StandardScaler\n",
    "from sklearn.cluster import DBSCAN\n",
    "\n",
    "\n",
    "def check(strr):\n",
    "    my_re = re.compile(r'[A-Za-z]', re.S)\n",
    "    res = re.findall(my_re, strr)\n",
    "    if len(res):\n",
    "        return True\n",
    "    else:\n",
    "        return False\n",
    "\n",
    "\n",
    "def dataset(filepath):\n",
    "    nname = []\n",
    "    iinformation = []\n",
    "    with open(filepath, 'r+') as f:\n",
    "        readers = csv.reader(f, delimiter=\",\")\n",
    "        x = list(readers)[1:]\n",
    "        data = np.array(x)\n",
    "        for line in data:\n",
    "            nname.append(line[0])\n",
    "            iinformation.append([np.double(line[i]) for i in range(1, len(line))])\n",
    "        return nname, iinformation\n",
    "\n",
    "\n",
    "def test_one(file_path):\n",
    "    pdf = pdfplumber.open(file_path)\n",
    "    page = pdf.pages[0]\n",
    "    word = page.extract_words(y_tolerance=-1)\n",
    "\n",
    "    with open(\"output_csv/\" + pdf.metadata['Title'] + \".csv\", 'w', newline='') as f:\n",
    "        row = list(word[0].keys())[0:6]\n",
    "        row.pop(3)\n",
    "        write = csv.writer(f)\n",
    "        write.writerow(row)\n",
    "        for wword in word:\n",
    "            if check(wword['text']):\n",
    "                continue\n",
    "            # row = list(wword.values())[0:6]\n",
    "            # write = csv.writer(f)\n",
    "            # write.writerow(row)\n",
    "            elif wword['text'].__contains__('.'):\n",
    "                row = list(wword.values())[0:6]\n",
    "                row.pop(3)\n",
    "                write = csv.writer(f)\n",
    "                write.writerow(row)\n",
    "\n",
    "    name, information = dataset(\"output_csv/\" + pdf.metadata['Title'] + \".csv\")\n",
    "\n",
    "    X = StandardScaler().fit_transform(information)\n",
    "    db = DBSCAN(eps=0.3,min_samples=3).fit(X)\n",
    "    # print(name)\n",
    "    # print(db.labels_)\n",
    "    # print(db.core_sample_indices_)\n",
    "\n",
    "    date = pd.read_csv(\"output_csv/\" + pdf.metadata['Title'] + \".csv\")\n",
    "    # print(date)\n",
    "    # print(db.labels_)\n",
    "    date['label'] = db.labels_\n",
    "    date.to_csv(\"output_csv/\" + pdf.metadata['Title'] + \".csv\",index=False)\n",
    "    # print(pd.read_csv(\"output_csv/\" + pdf.metadata['Title'] + \".csv\"))"
   ],
   "metadata": {
    "collapsed": false,
    "pycharm": {
     "name": "#%%\n"
    }
   }
  },
  {
   "cell_type": "markdown",
   "source": [
    "def separate(date):\n",
    "    for lable in date[0]:\n",
    "        if lable != -1:\n"
   ],
   "metadata": {
    "collapsed": false,
    "pycharm": {
     "name": "#%% md\n"
    }
   }
  },
  {
   "cell_type": "code",
   "execution_count": 53,
   "outputs": [
    {
     "name": "stdout",
     "output_type": "stream",
     "text": [
      "    text        x0        x1    doctop    bottom\n",
      "0   0.55  146.7060  158.3820   16.9175   22.9175\n",
      "1   2.10   82.3721   93.8321   63.7092   69.7092\n",
      "2   0.30  168.3882  180.0642   64.8703   70.8703\n",
      "3   2.00   82.3721   93.8321   71.7072   77.7072\n",
      "4   0.25  168.3882  180.0642   72.8683   78.8683\n",
      "5   0.50  241.8613  253.5373   74.1301   80.1301\n",
      "6   1.90   82.3721   93.8321   79.7052   85.7052\n",
      "7   0.18  168.3882  180.0642   80.8663   86.8663\n",
      "8   0.65  155.4072  167.0832  124.1100  130.1100\n",
      "9   0.60  155.4072  167.0832  132.1080  138.1080\n",
      "10  0.55  155.4072  167.0832  140.1060  146.1060\n",
      "11  0.60   29.3760   41.0520  180.6130  186.6130\n",
      "12  0.05  144.7666  156.4426  186.5969  192.5969\n",
      "13  0.55   29.3760   41.0520  188.6110  194.6110\n",
      "14  0.02  144.7666  156.4426  194.5949  200.5949\n",
      "15  0.50   29.3760   41.0520  196.6090  202.6090\n",
      "16  0.20  137.2397  148.9157  217.3801  223.3801\n",
      "[-1  0  1  0  1 -1  0  1  2  2  2  3 -1  3 -1  3 -1]\n",
      "    text        x0        x1    doctop    bottom  label\n",
      "0   0.55  146.7060  158.3820   16.9175   22.9175     -1\n",
      "1   2.10   82.3721   93.8321   63.7092   69.7092      0\n",
      "2   0.30  168.3882  180.0642   64.8703   70.8703      1\n",
      "3   2.00   82.3721   93.8321   71.7072   77.7072      0\n",
      "4   0.25  168.3882  180.0642   72.8683   78.8683      1\n",
      "5   0.50  241.8613  253.5373   74.1301   80.1301     -1\n",
      "6   1.90   82.3721   93.8321   79.7052   85.7052      0\n",
      "7   0.18  168.3882  180.0642   80.8663   86.8663      1\n",
      "8   0.65  155.4072  167.0832  124.1100  130.1100      2\n",
      "9   0.60  155.4072  167.0832  132.1080  138.1080      2\n",
      "10  0.55  155.4072  167.0832  140.1060  146.1060      2\n",
      "11  0.60   29.3760   41.0520  180.6130  186.6130      3\n",
      "12  0.05  144.7666  156.4426  186.5969  192.5969     -1\n",
      "13  0.55   29.3760   41.0520  188.6110  194.6110      3\n",
      "14  0.02  144.7666  156.4426  194.5949  200.5949     -1\n",
      "15  0.50   29.3760   41.0520  196.6090  202.6090      3\n",
      "16  0.20  137.2397  148.9157  217.3801  223.3801     -1\n"
     ]
    }
   ],
   "source": [
    "\n",
    "path = \"data_pdf/cp_8_6.pdf\"\n",
    "test_one(path)"
   ],
   "metadata": {
    "collapsed": false,
    "pycharm": {
     "name": "#%%\n"
    }
   }
  }
 ],
 "metadata": {
  "kernelspec": {
   "display_name": "Python 3",
   "language": "python",
   "name": "python3"
  },
  "language_info": {
   "codemirror_mode": {
    "name": "ipython",
    "version": 2
   },
   "file_extension": ".py",
   "mimetype": "text/x-python",
   "name": "python",
   "nbconvert_exporter": "python",
   "pygments_lexer": "ipython2",
   "version": "2.7.6"
  }
 },
 "nbformat": 4,
 "nbformat_minor": 0
}