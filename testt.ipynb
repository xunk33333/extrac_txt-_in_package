{
 "cells": [
  {
   "cell_type": "code",
   "execution_count": 198,
   "metadata": {
    "collapsed": true
   },
   "outputs": [],
   "source": [
    "import numpy as np\n",
    "import csv\n",
    "import re\n",
    "\n",
    "import pandas as pd\n",
    "import pdfplumber\n"
   ]
  },
  {
   "cell_type": "code",
   "execution_count": 199,
   "outputs": [],
   "source": [
    "\n",
    "from sklearn.preprocessing import StandardScaler\n",
    "from sklearn.cluster import DBSCAN\n",
    "\n",
    "\n",
    "def check(strr):\n",
    "    my_re = re.compile(r'[A-Za-z]', re.S)\n",
    "    res = re.findall(my_re, strr)\n",
    "    if len(res):\n",
    "        return True\n",
    "    else:\n",
    "        return False\n",
    "\n",
    "\n",
    "def dataset(filepath):\n",
    "    nname = []\n",
    "    iinformation = []\n",
    "    with open(filepath, 'r+') as f:\n",
    "        readers = csv.reader(f, delimiter=\",\")\n",
    "        x = list(readers)[1:]\n",
    "        data = np.array(x)\n",
    "        for line in data:\n",
    "            nname.append(line[0])\n",
    "            iinformation.append([np.double(line[i]) for i in range(1, len(line))])\n",
    "        return nname, iinformation\n",
    "\n",
    "\n",
    "def test_one(file_path):\n",
    "    pdf = pdfplumber.open(file_path)\n",
    "    page = pdf.pages[0]\n",
    "    word = page.extract_words(y_tolerance=-1)\n",
    "\n",
    "    with open(\"output_csv/\" + pdf.metadata['Title'] + \".csv\", 'w', newline='') as f:\n",
    "        row = list(word[0].keys())[0:6]\n",
    "        row.pop(3)\n",
    "        write = csv.writer(f)\n",
    "        write.writerow(row)\n",
    "        for wword in word:\n",
    "            if check(wword['text']):\n",
    "                continue\n",
    "            # row = list(wword.values())[0:6]\n",
    "            # write = csv.writer(f)\n",
    "            # write.writerow(row)\n",
    "            elif wword['text'].__contains__('.'):\n",
    "                row = list(wword.values())[0:6]\n",
    "                row.pop(3)\n",
    "                write = csv.writer(f)\n",
    "                write.writerow(row)\n",
    "\n",
    "    name, information = dataset(\"output_csv/\" + pdf.metadata['Title'] + \".csv\")\n",
    "\n",
    "    X = StandardScaler().fit_transform(information)\n",
    "    db = DBSCAN(eps=0.3,min_samples=3).fit(X)\n",
    "    # print(name)\n",
    "    # print(db.labels_)\n",
    "    # print(db.core_sample_indices_)\n",
    "\n",
    "    date = pd.read_csv(\"output_csv/\" + pdf.metadata['Title'] + \".csv\")\n",
    "    # print(date)\n",
    "    # print(db.labels_)\n",
    "    date['label'] = db.labels_\n",
    "    date.to_csv(\"output_csv/\" + pdf.metadata['Title'] + \".csv\",index=False)\n",
    "    # print(pd.read_csv(\"output_csv/\" + pdf.metadata['Title'] + \".csv\"))\n",
    "\n",
    "    # 读取数据文件\n",
    "    df = pd.read_csv(\"output_csv/\" + pdf.metadata['Title'] + \".csv\")\n",
    "    # print([100<each<140 for each in df['x0']])\n",
    "\n",
    "    # 创建结果表\n",
    "    result = pd.DataFrame()\n",
    "\n",
    "    # 厚度\n",
    "    position = [[each/page.width <3.5/11.5 for each in df['x0']],\n",
    "            [each/page.height >1/2 for each in df['doctop']],\n",
    "            [each > -1 for each in df['label']]\n",
    "            ]\n",
    "    booll = [all(e) for e in zip(*position)]\n",
    "    result['厚度'] = df[booll]['text'].to_numpy()\n",
    "    df.drop(index=df[booll]['text'].index,inplace=True)\n",
    "\n",
    "    # 外边长\n",
    "    position = [[each/page.width <1/2 for each in df['x0']],\n",
    "            [each/page.height <1/2 for each in df['doctop']]\n",
    "            ]\n",
    "    booll = [all(e) for e in zip(*position)]\n",
    "    result = pd.concat([result,pd.DataFrame({'外边长':df[booll]['text'].to_numpy()})],axis=1)\n",
    "    df.drop(index=df[booll]['text'].index,inplace=True)\n",
    "\n",
    "    # EXPOSED_PAD宽度\n",
    "    position = [[each/page.width >8/11.5 for each in df['x0']],\n",
    "            [2.5/9.2< each/page.height <7/9.2 for each in df['doctop']],\n",
    "                [each > -1 for each in df['label']]\n",
    "            ]\n",
    "    booll = [all(e) for e in zip(*position)]\n",
    "    result = pd.concat([result,pd.DataFrame({'EXPOSED_PAD宽度':df[booll]['text'].to_numpy()})],axis=1)\n",
    "    df.drop(index=df[booll]['text'].index,inplace=True)\n",
    "\n",
    "    # 脚长度\n",
    "    position = [[4/12.5< each/page.width <8/12 for each in df['x0']],\n",
    "            [1/2< each/page.height <7/8.7 for each in df['doctop']],\n",
    "                [each > -1 for each in df['label']]\n",
    "            ]\n",
    "    booll = [all(e) for e in zip(*position)]\n",
    "    result = pd.concat([result,pd.DataFrame({'脚长度':df[booll]['text'].to_numpy()})],axis=1)\n",
    "    df.drop(index=df[booll]['text'].index,inplace=True)\n",
    "\n",
    "    # 脚宽度\n",
    "    position = [[2/11.4< each/page.width <5.5/11.4 for each in df['x0']],\n",
    "            [6/8.4< each/page.height  for each in df['doctop']],\n",
    "                [each > -1 for each in df['label']]\n",
    "            ]\n",
    "    booll1 = [all(e) for e in zip(*position)]\n",
    "\n",
    "    position = [[4.5/10.7< each/page.width <9/12 for each in df['x0']],\n",
    "            [1.5/8.8< each/page.height <4/8.7 for each in df['doctop']],\n",
    "                [each > -1 for each in df['label']]\n",
    "            ]\n",
    "    booll2 = [all(e) for e in zip(*position)]\n",
    "\n",
    "    position = [booll1,\n",
    "                booll2\n",
    "            ]\n",
    "    booll = [any(e) for e in zip(*position)]\n",
    "    result = pd.concat([result,pd.DataFrame({'脚宽度':df[booll]['text'].to_numpy()})],axis=1)\n",
    "    df.drop(index=df[booll]['text'].index,inplace=True)\n",
    "    print(df)\n",
    "\n",
    "    result.to_csv(\"result_csv/\" + pdf.metadata['Title'] + \".csv\",index=False)"
   ],
   "metadata": {
    "collapsed": false,
    "pycharm": {
     "name": "#%%\n"
    }
   }
  },
  {
   "cell_type": "markdown",
   "source": [
    "def separate(filepath,page):\n",
    "    # 读取数据文件\n",
    "    df = pd.read_csv(filepath)\n",
    "    # print([100<each<140 for each in df['x0']])\n",
    "\n",
    "    # 创建结果表\n",
    "    result = pd.read_csv()\n",
    "\n",
    "    # 厚度\n",
    "    data = [[each/page.width <3.5/11.5 for each in df['x0']],\n",
    "            [each/page.height >1/2 for each in df['doctop']],\n",
    "            [each > 0 for each in df['label']]\n",
    "            ]\n",
    "    booll = [all(e) for e in zip(*data)]\n",
    "    result['厚度'] = df[booll]['text']\n",
    "\n"
   ],
   "metadata": {
    "collapsed": false,
    "pycharm": {
     "name": "#%% md\n"
    }
   }
  },
  {
   "cell_type": "code",
   "execution_count": 200,
   "outputs": [
    {
     "name": "stdout",
     "output_type": "stream",
     "text": [
      "    text        x0        x1    doctop    bottom  label\n",
      "5   0.50  241.8613  253.5373   74.1301   80.1301     -1\n",
      "12  0.05  144.7666  156.4426  186.5969  192.5969     -1\n",
      "14  0.02  144.7666  156.4426  194.5949  200.5949     -1\n",
      "16  0.20  137.2397  148.9157  217.3801  223.3801     -1\n"
     ]
    }
   ],
   "source": [
    "\n",
    "path = \"data_pdf/cp_8_6.pdf\"\n",
    "page = test_one(path)"
   ],
   "metadata": {
    "collapsed": false,
    "pycharm": {
     "name": "#%%\n"
    }
   }
  },
  {
   "cell_type": "code",
   "execution_count": 200,
   "outputs": [],
   "source": [],
   "metadata": {
    "collapsed": false,
    "pycharm": {
     "name": "#%%\n"
    }
   }
  },
  {
   "cell_type": "markdown",
   "source": [],
   "metadata": {
    "collapsed": false
   }
  }
 ],
 "metadata": {
  "kernelspec": {
   "display_name": "Python 3",
   "language": "python",
   "name": "python3"
  },
  "language_info": {
   "codemirror_mode": {
    "name": "ipython",
    "version": 2
   },
   "file_extension": ".py",
   "mimetype": "text/x-python",
   "name": "python",
   "nbconvert_exporter": "python",
   "pygments_lexer": "ipython2",
   "version": "2.7.6"
  }
 },
 "nbformat": 4,
 "nbformat_minor": 0
}