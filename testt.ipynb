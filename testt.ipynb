{
 "cells": [
  {
   "cell_type": "code",
   "execution_count": 7,
   "metadata": {
    "collapsed": true
   },
   "outputs": [],
   "source": [
    "import numpy as np\n",
    "import csv\n",
    "import re\n",
    "from sklearn.cluster import KMeans\n",
    "import pdfplumber\n",
    "\n",
    "\n",
    "def check(strr):\n",
    "    my_re = re.compile(r'[A-Za-z]', re.S)\n",
    "    res = re.findall(my_re, strr)\n",
    "    if len(res):\n",
    "        return True\n",
    "    else:\n",
    "        return False\n",
    "\n",
    "\n",
    "def dataset(filepath):\n",
    "    nname = []\n",
    "    iinformation = []\n",
    "    with open(filepath, 'r+') as f:\n",
    "        readers = csv.reader(f, delimiter=\",\")\n",
    "        x = list(readers)\n",
    "        data = np.array(x)\n",
    "        for line in data:\n",
    "            nname.append(line[0])\n",
    "            iinformation.append([np.double(line[i]) for i in range(1, len(line))])\n",
    "        return nname, iinformation\n",
    "\n",
    "\n",
    "def test_one(file_path):\n",
    "    pdf = pdfplumber.open(file_path)\n",
    "    page = pdf.pages[0]\n",
    "    word = page.extract_words(y_tolerance=-1)\n",
    "\n",
    "    with open(\"output_csv/\" + pdf.metadata['Title'] + \".csv\", 'w', newline='') as f:\n",
    "        for wword in word:\n",
    "            if check(wword['text']):\n",
    "                continue\n",
    "            # row = list(wword.values())[0:6]\n",
    "            # write = csv.writer(f)\n",
    "            # write.writerow(row)\n",
    "            elif wword['text'].__contains__('.'):\n",
    "                row = list(wword.values())[0:6]\n",
    "                write = csv.writer(f)\n",
    "                write.writerow(row)\n",
    "\n",
    "    name, information = dataset(\"output_csv/\" + pdf.metadata['Title'] + \".csv\")\n",
    "    n_clusters = 11\n",
    "    km = KMeans(n_clusters=n_clusters)\n",
    "    label = km.fit_predict(information)\n",
    "    Cluster = [[] for _ in range(n_clusters)]\n",
    "    for i in range(len(name)):\n",
    "        Cluster[label[i]].append(name[i])\n",
    "    # for i in range(len(Cluster)):\n",
    "    #     print(Cluster[i])\n",
    "    with open(\"result_csv/\" + pdf.metadata['Title'] + \".csv\", 'w', newline='') as f:\n",
    "        for cluster in Cluster:\n",
    "            write = csv.writer(f)\n",
    "            write.writerow(cluster)\n",
    "\n",
    "path = \"data_pdf/cp_48_5.pdf\"\n",
    "test_one(path)"
   ]
  }
 ],
 "metadata": {
  "kernelspec": {
   "display_name": "Python 3",
   "language": "python",
   "name": "python3"
  },
  "language_info": {
   "codemirror_mode": {
    "name": "ipython",
    "version": 2
   },
   "file_extension": ".py",
   "mimetype": "text/x-python",
   "name": "python",
   "nbconvert_exporter": "python",
   "pygments_lexer": "ipython2",
   "version": "2.7.6"
  }
 },
 "nbformat": 4,
 "nbformat_minor": 0
}