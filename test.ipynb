{
 "cells": [
  {
   "cell_type": "code",
   "execution_count": 20,
   "metadata": {
    "collapsed": true
   },
   "outputs": [
    {
     "name": "stdout",
     "output_type": "stream",
     "text": [
      "{'text': '16-Lead', 'x0': 104.1971, 'x1': 126.87110000000001, 'top': 20.78509999999997, 'doctop': 20.78509999999997, 'bottom': 26.78509999999997, 'upright': True, 'direction': 1}\n",
      "{'text': 'Lead', 'x0': 128.53910000000002, 'x1': 142.5431, 'top': 20.78509999999997, 'doctop': 20.78509999999997, 'bottom': 26.78509999999997, 'upright': True, 'direction': 1}\n",
      "{'text': 'Frame', 'x0': 144.21110000000002, 'x1': 162.21710000000002, 'top': 20.78509999999997, 'doctop': 20.78509999999997, 'bottom': 26.78509999999997, 'upright': True, 'direction': 1}\n",
      "{'text': 'Chip', 'x0': 163.88510000000002, 'x1': 177.21710000000002, 'top': 20.78509999999997, 'doctop': 20.78509999999997, 'bottom': 26.78509999999997, 'upright': True, 'direction': 1}\n",
      "{'text': 'Scale', 'x0': 178.88510000000002, 'x1': 194.56310000000005, 'top': 20.78509999999997, 'doctop': 20.78509999999997, 'bottom': 26.78509999999997, 'upright': True, 'direction': 1}\n",
      "{'text': 'Package', 'x0': 196.23110000000003, 'x1': 220.57910000000007, 'top': 20.78509999999997, 'doctop': 20.78509999999997, 'bottom': 26.78509999999997, 'upright': True, 'direction': 1}\n",
      "{'text': '[LFCSP]', 'x0': 222.24710000000005, 'x1': 245.91110000000006, 'top': 20.78509999999997, 'doctop': 20.78509999999997, 'bottom': 26.78509999999997, 'upright': True, 'direction': 1}\n",
      "{'text': '4', 'x0': 110.8631, 'x1': 114.1991, 'top': 27.98509999999996, 'doctop': 27.98509999999996, 'bottom': 33.98509999999996, 'upright': True, 'direction': 1}\n",
      "{'text': 'x', 'x0': 115.86710000000001, 'x1': 119.2031, 'top': 27.98509999999996, 'doctop': 27.98509999999996, 'bottom': 33.98509999999996, 'upright': True, 'direction': 1}\n",
      "{'text': '4', 'x0': 120.8711, 'x1': 124.2071, 'top': 27.98509999999996, 'doctop': 27.98509999999996, 'bottom': 33.98509999999996, 'upright': True, 'direction': 1}\n",
      "{'text': 'mm', 'x0': 125.8751, 'x1': 136.5431, 'top': 27.98509999999996, 'doctop': 27.98509999999996, 'bottom': 33.98509999999996, 'upright': True, 'direction': 1}\n",
      "{'text': 'Body', 'x0': 138.2111, 'x1': 153.21110000000002, 'top': 27.98509999999996, 'doctop': 27.98509999999996, 'bottom': 33.98509999999996, 'upright': True, 'direction': 1}\n",
      "{'text': 'and', 'x0': 154.8791, 'x1': 165.5471, 'top': 27.98509999999996, 'doctop': 27.98509999999996, 'bottom': 33.98509999999996, 'upright': True, 'direction': 1}\n",
      "{'text': '0.90', 'x0': 167.2151, 'x1': 178.89110000000002, 'top': 27.98509999999996, 'doctop': 27.98509999999996, 'bottom': 33.98509999999996, 'upright': True, 'direction': 1}\n",
      "{'text': 'mm', 'x0': 180.5591, 'x1': 191.2271, 'top': 27.98509999999996, 'doctop': 27.98509999999996, 'bottom': 33.98509999999996, 'upright': True, 'direction': 1}\n",
      "{'text': 'Package', 'x0': 192.8951, 'x1': 217.24310000000003, 'top': 27.98509999999996, 'doctop': 27.98509999999996, 'bottom': 33.98509999999996, 'upright': True, 'direction': 1}\n",
      "{'text': 'Height.', 'x0': 218.91110000000003, 'x1': 239.24510000000004, 'top': 27.98509999999996, 'doctop': 27.98509999999996, 'bottom': 33.98509999999996, 'upright': True, 'direction': 1}\n",
      "{'text': '(CP-16-40)', 'x0': 160.21910000000003, 'x1': 189.8891, 'top': 35.18509999999995, 'doctop': 35.18509999999995, 'bottom': 41.18509999999995, 'upright': True, 'direction': 1}\n",
      "{'text': 'Dimensions', 'x0': 127.54310000000002, 'x1': 161.55110000000005, 'top': 42.38509999999994, 'doctop': 42.38509999999994, 'bottom': 48.38509999999994, 'upright': True, 'direction': 1}\n",
      "{'text': 'shown', 'x0': 163.21910000000003, 'x1': 182.2211, 'top': 42.38509999999994, 'doctop': 42.38509999999994, 'bottom': 48.38509999999994, 'upright': True, 'direction': 1}\n",
      "{'text': 'in', 'x0': 183.88910000000004, 'x1': 189.22310000000002, 'top': 42.38509999999994, 'doctop': 42.38509999999994, 'bottom': 48.38509999999994, 'upright': True, 'direction': 1}\n",
      "{'text': 'millimeters', 'x0': 190.89110000000005, 'x1': 222.57110000000006, 'top': 42.38509999999994, 'doctop': 42.38509999999994, 'bottom': 48.38509999999994, 'upright': True, 'direction': 1}\n",
      "{'text': '4.10', 'x0': 97.0635, 'x1': 108.7395, 'top': 77.2208, 'doctop': 77.2208, 'bottom': 83.2208, 'upright': True, 'direction': 1}\n",
      "{'text': '0.39', 'x0': 201.3495, 'x1': 213.02550000000002, 'top': 78.17479999999998, 'doctop': 78.17479999999998, 'bottom': 84.17479999999998, 'upright': True, 'direction': 1}\n",
      "{'text': '4.00', 'x0': 97.0635, 'x1': 108.7395, 'top': 85.21879999999999, 'doctop': 85.21879999999999, 'bottom': 91.21879999999999, 'upright': True, 'direction': 1}\n",
      "{'text': 'SQ', 'x0': 110.4075, 'x1': 119.07750000000001, 'top': 85.21879999999999, 'doctop': 85.21879999999999, 'bottom': 91.21879999999999, 'upright': True, 'direction': 1}\n",
      "{'text': '0.33', 'x0': 201.3495, 'x1': 213.02550000000002, 'top': 86.17279999999997, 'doctop': 86.17279999999997, 'bottom': 92.17279999999997, 'upright': True, 'direction': 1}\n",
      "{'text': 'PIN', 'x0': 43.8818, 'x1': 53.8838, 'top': 94.53040000000001, 'doctop': 94.53040000000001, 'bottom': 100.53040000000001, 'upright': True, 'direction': 1}\n",
      "{'text': '1', 'x0': 55.5518, 'x1': 58.8878, 'top': 94.53040000000001, 'doctop': 94.53040000000001, 'bottom': 100.53040000000001, 'upright': True, 'direction': 1}\n",
      "{'text': '3.90', 'x0': 97.0635, 'x1': 108.7395, 'top': 93.21679999999998, 'doctop': 93.21679999999998, 'bottom': 99.21679999999998, 'upright': True, 'direction': 1}\n",
      "{'text': '0.27', 'x0': 201.3495, 'x1': 213.02550000000002, 'top': 94.17079999999996, 'doctop': 94.17079999999996, 'bottom': 100.17079999999996, 'upright': True, 'direction': 1}\n",
      "{'text': 'PININD', 'x0': 273.105032, 'x1': 281.7148598, 'top': 91.6421559, 'doctop': 91.6421559, 'bottom': 101.67446240000001, 'upright': True, 'direction': 1}\n",
      "{'text': 'I1CATOR', 'x0': 281.7343598, 'x1': 300.4294855, 'top': 91.6258929, 'doctop': 91.6258929, 'bottom': 101.6408834, 'upright': True, 'direction': 1}\n",
      "{'text': 'INDICATOR', 'x0': 26.1038, 'x1': 58.8878, 'top': 100.53040000000001, 'doctop': 100.53040000000001, 'bottom': 106.53040000000001, 'upright': True, 'direction': 1}\n",
      "{'text': '(0.30)', 'x0': 273.1490319, 'x1': 286.1892707, 'top': 101.62350889999999, 'doctop': 101.62350889999999, 'bottom': 106.6743429, 'upright': True, 'direction': 1}\n",
      "{'text': '13', 'x0': 206.179, 'x1': 210.62699999999998, 'top': 106.19149999999996, 'doctop': 106.19149999999996, 'bottom': 110.19149999999996, 'upright': True, 'direction': 1}\n",
      "{'text': '16', 'x0': 243.439, 'x1': 247.88699999999997, 'top': 106.08749999999998, 'doctop': 106.08749999999998, 'bottom': 110.08749999999998, 'upright': True, 'direction': 1}\n",
      "{'text': '0.65', 'x0': 168.5874, 'x1': 180.26340000000002, 'top': 111.75989999999999, 'doctop': 111.75989999999999, 'bottom': 117.75989999999999, 'upright': True, 'direction': 1}\n",
      "{'text': '1', 'x0': 255.0742, 'x1': 257.2982, 'top': 112.98149999999998, 'doctop': 112.98149999999998, 'bottom': 116.98149999999998, 'upright': True, 'direction': 1}\n",
      "{'text': 'BSC', 'x0': 167.5974, 'x1': 180.2634, 'top': 117.75989999999999, 'doctop': 117.75989999999999, 'bottom': 123.75989999999999, 'upright': True, 'direction': 1}\n",
      "{'text': '12', 'x0': 195.827, 'x1': 200.27499999999998, 'top': 117.41949999999997, 'doctop': 117.41949999999997, 'bottom': 121.41949999999997, 'upright': True, 'direction': 1}\n",
      "{'text': '2.55', 'x0': 281.9771, 'x1': 293.6531, 'top': 126.16909999999999, 'doctop': 126.16909999999999, 'bottom': 132.1691, 'upright': True, 'direction': 1}\n",
      "{'text': 'EXPOSED', 'x0': 216.4824, 'x1': 238.2399, 'top': 132.9733, 'doctop': 132.9733, 'bottom': 137.4733, 'upright': True, 'direction': 1}\n",
      "{'text': '2.40', 'x0': 281.9771, 'x1': 293.6531, 'top': 134.16709999999998, 'doctop': 134.16709999999998, 'bottom': 140.16709999999998, 'upright': True, 'direction': 1}\n",
      "{'text': 'SQ', 'x0': 295.3211, 'x1': 303.9911, 'top': 134.16709999999998, 'doctop': 134.16709999999998, 'bottom': 140.16709999999998, 'upright': True, 'direction': 1}\n",
      "{'text': 'PAD', 'x0': 222.6114, 'x1': 232.1109, 'top': 137.4733, 'doctop': 137.4733, 'bottom': 141.9733, 'upright': True, 'direction': 1}\n",
      "{'text': '2.25', 'x0': 281.9771, 'x1': 293.6531, 'top': 142.1651, 'doctop': 142.1651, 'bottom': 148.1651, 'upright': True, 'direction': 1}\n",
      "{'text': '9', 'x0': 196.551, 'x1': 198.77499999999998, 'top': 153.19549999999998, 'doctop': 153.19549999999998, 'bottom': 157.19549999999998, 'upright': True, 'direction': 1}\n",
      "{'text': '4', 'x0': 255.47899999999998, 'x1': 257.703, 'top': 157.35949999999997, 'doctop': 157.35949999999997, 'bottom': 161.35949999999997, 'upright': True, 'direction': 1}\n",
      "{'text': '*0.70', 'x0': 162.5414, 'x1': 176.55140000000003, 'top': 162.4536, 'doctop': 162.4536, 'bottom': 170.45159999999998, 'upright': True, 'direction': 1}\n",
      "{'text': '8', 'x0': 208.307, 'x1': 210.53099999999998, 'top': 164.5675, 'doctop': 164.5675, 'bottom': 168.5675, 'upright': True, 'direction': 1}\n",
      "{'text': '5', 'x0': 243.695, 'x1': 245.91899999999998, 'top': 164.4595, 'doctop': 164.4595, 'bottom': 168.4595, 'upright': True, 'direction': 1}\n",
      "{'text': '0.20', 'x0': 274.96680000000003, 'x1': 286.6428, 'top': 166.9875, 'doctop': 166.9875, 'bottom': 172.9875, 'upright': True, 'direction': 1}\n",
      "{'text': 'MIN', 'x0': 288.31080000000003, 'x1': 299.3088, 'top': 166.9875, 'doctop': 166.9875, 'bottom': 172.9875, 'upright': True, 'direction': 1}\n",
      "{'text': 'TOP', 'x0': 94.90450000000001, 'x1': 105.0935, 'top': 170.838, 'doctop': 170.838, 'bottom': 175.838, 'upright': True, 'direction': 1}\n",
      "{'text': 'VIEW', 'x0': 106.39250000000001, 'x1': 119.17250000000001, 'top': 170.838, 'doctop': 170.838, 'bottom': 175.838, 'upright': True, 'direction': 1}\n",
      "{'text': '0.60', 'x0': 164.8754, 'x1': 176.55140000000003, 'top': 172.4496, 'doctop': 172.4496, 'bottom': 178.4496, 'upright': True, 'direction': 1}\n",
      "{'text': 'BOTTOM', 'x0': 209.3745, 'x1': 230.9485, 'top': 170.838, 'doctop': 170.838, 'bottom': 175.838, 'upright': True, 'direction': 1}\n",
      "{'text': 'VIEW', 'x0': 232.3385, 'x1': 245.1185, 'top': 170.838, 'doctop': 170.838, 'bottom': 175.838, 'upright': True, 'direction': 1}\n",
      "{'text': '0.50', 'x0': 164.8754, 'x1': 176.55140000000003, 'top': 180.44760000000002, 'doctop': 180.44760000000002, 'bottom': 186.44760000000002, 'upright': True, 'direction': 1}\n",
      "{'text': '1.95', 'x0': 214.875, 'x1': 226.55100000000002, 'top': 180.735, 'doctop': 180.735, 'bottom': 186.735, 'upright': True, 'direction': 1}\n",
      "{'text': 'REF', 'x0': 228.219, 'x1': 240.219, 'top': 180.735, 'doctop': 180.735, 'bottom': 186.735, 'upright': True, 'direction': 1}\n",
      "{'text': '1.00', 'x0': 43.0537, 'x1': 54.729699999999994, 'top': 189.7663, 'doctop': 189.7663, 'bottom': 195.7663, 'upright': True, 'direction': 1}\n",
      "{'text': 'FOR', 'x0': 229.1963, 'x1': 241.8623, 'top': 193.27800000000002, 'doctop': 193.27800000000002, 'bottom': 199.27800000000002, 'upright': True, 'direction': 1}\n",
      "{'text': 'PROPER', 'x0': 243.5303, 'x1': 268.8683, 'top': 193.27800000000002, 'doctop': 193.27800000000002, 'bottom': 199.27800000000002, 'upright': True, 'direction': 1}\n",
      "{'text': 'CONNECTION', 'x0': 270.5363, 'x1': 310.8683, 'top': 193.27800000000002, 'doctop': 193.27800000000002, 'bottom': 199.27800000000002, 'upright': True, 'direction': 1}\n",
      "{'text': 'OF', 'x0': 312.5363, 'x1': 320.8703, 'top': 193.27800000000002, 'doctop': 193.27800000000002, 'bottom': 199.27800000000002, 'upright': True, 'direction': 1}\n",
      "{'text': '0.90', 'x0': 43.0537, 'x1': 54.729699999999994, 'top': 197.7643, 'doctop': 197.7643, 'bottom': 203.7643, 'upright': True, 'direction': 1}\n",
      "{'text': '0.05', 'x0': 168.1626, 'x1': 179.8386, 'top': 201.32729999999998, 'doctop': 201.32729999999998, 'bottom': 207.32729999999998, 'upright': True, 'direction': 1}\n",
      "{'text': 'MAX', 'x0': 181.5066, 'x1': 194.8386, 'top': 201.32729999999998, 'doctop': 201.32729999999998, 'bottom': 207.32729999999998, 'upright': True, 'direction': 1}\n",
      "{'text': 'THE', 'x0': 229.1963, 'x1': 241.1963, 'top': 199.27800000000002, 'doctop': 199.27800000000002, 'bottom': 205.27800000000002, 'upright': True, 'direction': 1}\n",
      "{'text': 'EXPOSED', 'x0': 242.86430000000001, 'x1': 271.8743, 'top': 199.27800000000002, 'doctop': 199.27800000000002, 'bottom': 205.27800000000002, 'upright': True, 'direction': 1}\n",
      "{'text': 'PAD,', 'x0': 273.5423, 'x1': 287.8763, 'top': 199.27800000000002, 'doctop': 199.27800000000002, 'bottom': 205.27800000000002, 'upright': True, 'direction': 1}\n",
      "{'text': 'REFER', 'x0': 289.5443, 'x1': 309.87829999999997, 'top': 199.27800000000002, 'doctop': 199.27800000000002, 'bottom': 205.27800000000002, 'upright': True, 'direction': 1}\n",
      "{'text': 'TO', 'x0': 311.5463, 'x1': 319.88030000000003, 'top': 199.27800000000002, 'doctop': 199.27800000000002, 'bottom': 205.27800000000002, 'upright': True, 'direction': 1}\n",
      "{'text': '0.80', 'x0': 43.0537, 'x1': 54.729699999999994, 'top': 205.7623, 'doctop': 205.7623, 'bottom': 211.7623, 'upright': True, 'direction': 1}\n",
      "{'text': 'THE', 'x0': 229.1963, 'x1': 241.1963, 'top': 205.27800000000002, 'doctop': 205.27800000000002, 'bottom': 211.27800000000002, 'upright': True, 'direction': 1}\n",
      "{'text': 'PIN', 'x0': 242.86430000000001, 'x1': 252.8663, 'top': 205.27800000000002, 'doctop': 205.27800000000002, 'bottom': 211.27800000000002, 'upright': True, 'direction': 1}\n",
      "{'text': 'CONFIGURATION', 'x0': 254.5343, 'x1': 305.1983, 'top': 205.27800000000002, 'doctop': 205.27800000000002, 'bottom': 211.27800000000002, 'upright': True, 'direction': 1}\n",
      "{'text': 'AND', 'x0': 306.8663, 'x1': 319.8623, 'top': 205.27800000000002, 'doctop': 205.27800000000002, 'bottom': 211.27800000000002, 'upright': True, 'direction': 1}\n",
      "{'text': '0.02', 'x0': 168.1626, 'x1': 179.8386, 'top': 209.3253, 'doctop': 209.3253, 'bottom': 215.3253, 'upright': True, 'direction': 1}\n",
      "{'text': 'NOM', 'x0': 181.5066, 'x1': 195.50459999999998, 'top': 209.3253, 'doctop': 209.3253, 'bottom': 215.3253, 'upright': True, 'direction': 1}\n",
      "{'text': 'FUNCTION', 'x0': 229.1963, 'x1': 260.1923, 'top': 211.27800000000002, 'doctop': 211.27800000000002, 'bottom': 217.27800000000002, 'upright': True, 'direction': 1}\n",
      "{'text': 'DESCRIPTIONS', 'x0': 261.8603, 'x1': 306.8663, 'top': 211.27800000000002, 'doctop': 211.27800000000002, 'bottom': 217.27800000000002, 'upright': True, 'direction': 1}\n",
      "{'text': 'COPLANARITY', 'x0': 175.665, 'x1': 218.99699999999999, 'top': 216.4596, 'doctop': 216.4596, 'bottom': 222.4596, 'upright': True, 'direction': 1}\n",
      "{'text': 'SECTION', 'x0': 229.1963, 'x1': 255.8663, 'top': 217.27800000000002, 'doctop': 217.27800000000002, 'bottom': 223.27800000000002, 'upright': True, 'direction': 1}\n",
      "{'text': 'OF', 'x0': 257.53430000000003, 'x1': 265.86830000000003, 'top': 217.27800000000002, 'doctop': 217.27800000000002, 'bottom': 223.27800000000002, 'upright': True, 'direction': 1}\n",
      "{'text': 'THIS', 'x0': 267.5363, 'x1': 281.20430000000005, 'top': 217.27800000000002, 'doctop': 217.27800000000002, 'bottom': 223.27800000000002, 'upright': True, 'direction': 1}\n",
      "{'text': 'DATA', 'x0': 282.8723, 'x1': 299.53430000000003, 'top': 217.27800000000002, 'doctop': 217.27800000000002, 'bottom': 223.27800000000002, 'upright': True, 'direction': 1}\n",
      "{'text': 'SHEET.', 'x0': 301.20230000000004, 'x1': 322.8743, 'top': 217.27800000000002, 'doctop': 217.27800000000002, 'bottom': 223.27800000000002, 'upright': True, 'direction': 1}\n",
      "{'text': 'SEATING', 'x0': 25.1494, 'x1': 51.3754, 'top': 222.61, 'doctop': 222.61, 'bottom': 228.61, 'upright': True, 'direction': 1}\n",
      "{'text': '0.08', 'x0': 191.493, 'x1': 203.169, 'top': 222.4596, 'doctop': 222.4596, 'bottom': 228.4596, 'upright': True, 'direction': 1}\n",
      "{'text': 'PLANE', 'x0': 31.0414, 'x1': 51.375400000000006, 'top': 228.61, 'doctop': 228.61, 'bottom': 234.61, 'upright': True, 'direction': 1}\n",
      "{'text': '0.20', 'x0': 155.0688, 'x1': 166.74480000000003, 'top': 229.8375, 'doctop': 229.8375, 'bottom': 235.8375, 'upright': True, 'direction': 1}\n",
      "{'text': 'REF', 'x0': 168.4128, 'x1': 180.4128, 'top': 229.8375, 'doctop': 229.8375, 'bottom': 235.8375, 'upright': True, 'direction': 1}\n",
      "{'text': '*COMPLIANT', 'x0': 94.0454, 'x1': 132.0434, 'top': 246.5016, 'doctop': 246.5016, 'bottom': 252.5016, 'upright': True, 'direction': 1}\n",
      "{'text': 'TO', 'x0': 133.7114, 'x1': 142.0454, 'top': 246.5016, 'doctop': 246.5016, 'bottom': 252.5016, 'upright': True, 'direction': 1}\n",
      "{'text': 'JEDEC', 'x0': 143.71339999999998, 'x1': 163.7174, 'top': 246.5016, 'doctop': 246.5016, 'bottom': 252.5016, 'upright': True, 'direction': 1}\n",
      "{'text': 'STANDARDS', 'x0': 165.3854, 'x1': 203.0474, 'top': 246.5016, 'doctop': 246.5016, 'bottom': 252.5016, 'upright': True, 'direction': 1}\n",
      "{'text': 'MO-220-VGGC-4', 'x0': 204.7154, 'x1': 251.3894, 'top': 246.5016, 'doctop': 246.5016, 'bottom': 252.5016, 'upright': True, 'direction': 1}\n",
      "{'text': 'WITH', 'x0': 97.0454, 'x1': 112.3754, 'top': 253.70159999999998, 'doctop': 253.70159999999998, 'bottom': 259.7016, 'upright': True, 'direction': 1}\n",
      "{'text': 'EXCEPTION', 'x0': 114.04339999999999, 'x1': 148.7174, 'top': 253.70159999999998, 'doctop': 253.70159999999998, 'bottom': 259.7016, 'upright': True, 'direction': 1}\n",
      "{'text': 'TO', 'x0': 150.3854, 'x1': 158.7194, 'top': 253.70159999999998, 'doctop': 253.70159999999998, 'bottom': 259.7016, 'upright': True, 'direction': 1}\n",
      "{'text': 'LEAD', 'x0': 160.3874, 'x1': 176.7194, 'top': 253.70159999999998, 'doctop': 253.70159999999998, 'bottom': 259.7016, 'upright': True, 'direction': 1}\n",
      "{'text': 'LENGHT.', 'x0': 178.3874, 'x1': 204.72140000000002, 'top': 253.70159999999998, 'doctop': 253.70159999999998, 'bottom': 259.7016, 'upright': True, 'direction': 1}\n",
      "{'text': '000000-GKP', 'x0': 16.0279, 'x1': 19.0279, 'top': 240.0154, 'doctop': 240.0154, 'bottom': 257.5234, 'upright': False, 'direction': 1}\n",
      "{'text': 'A-5102-91-01', 'x0': 328.2369, 'x1': 332.2369, 'top': 232.7947, 'doctop': 232.7947, 'bottom': 257.4707, 'upright': False, 'direction': 1}\n"
     ]
    }
   ],
   "source": [
    "import pdfplumber\n",
    "pdf = pdfplumber.open(\"data/cp-16-40.pdf\")\n",
    "page = pdf.pages[0]\n",
    "word = page.extract_words()\n",
    "# for wor in word:\n",
    "#     print(wor)"
   ]
  },
  {
   "cell_type": "code",
   "execution_count": 31,
   "outputs": [],
   "source": [
    "import csv\n",
    "with open(\"test.csv\",'a') as f:\n",
    "    row = word[0].keys()\n",
    "    write = csv.writer(f)\n",
    "    write.writerow(row)\n",
    "    for wword in word:\n",
    "        row = wword.values()\n",
    "        write = csv.writer(f)\n",
    "        write.writerow(row)"
   ],
   "metadata": {
    "collapsed": false,
    "pycharm": {
     "name": "#%%\n"
    }
   }
  },
  {
   "cell_type": "code",
   "execution_count": null,
   "outputs": [],
   "source": [
    "import sklearn\n"
   ],
   "metadata": {
    "collapsed": false,
    "pycharm": {
     "name": "#%%\n"
    }
   }
  }
 ],
 "metadata": {
  "kernelspec": {
   "display_name": "Python 3",
   "language": "python",
   "name": "python3"
  },
  "language_info": {
   "codemirror_mode": {
    "name": "ipython",
    "version": 2
   },
   "file_extension": ".py",
   "mimetype": "text/x-python",
   "name": "python",
   "nbconvert_exporter": "python",
   "pygments_lexer": "ipython2",
   "version": "2.7.6"
  }
 },
 "nbformat": 4,
 "nbformat_minor": 0
}