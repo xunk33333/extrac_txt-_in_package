{
 "cells": [
  {
   "cell_type": "code",
   "execution_count": 129,
   "metadata": {
    "collapsed": true
   },
   "outputs": [],
   "source": [
    "\n",
    "import pdfplumber\n",
    "file_path = \"data/CP_24_14.pdf\"\n",
    "pdf = pdfplumber.open(file_path)\n",
    "page = pdf.pages[0]\n",
    "word = page.extract_words(y_tolerance=0)"
   ]
  },
  {
   "cell_type": "code",
   "execution_count": 130,
   "outputs": [],
   "source": [
    "import re\n",
    "\n",
    "def check(strr):\n",
    "    my_re=re.compile(r'[A-Za-z]',re.S)\n",
    "    res=re.findall(my_re,strr)\n",
    "    if len(res):\n",
    "        return True\n",
    "    else:\n",
    "        return False\n"
   ],
   "metadata": {
    "collapsed": false,
    "pycharm": {
     "name": "#%%\n"
    }
   }
  },
  {
   "cell_type": "code",
   "execution_count": 131,
   "outputs": [],
   "source": [
    "import csv\n",
    "with open(pdf.metadata['Title']+\".csv\",'w',newline='') as f:\n",
    "    for wword in word:\n",
    "        if check(wword['text']):\n",
    "            continue\n",
    "        elif(wword['text'].__contains__('.')):\n",
    "            row = list(wword.values())[0:6]\n",
    "            write = csv.writer(f)\n",
    "            write.writerow(row)"
   ],
   "metadata": {
    "collapsed": false,
    "pycharm": {
     "name": "#%%\n"
    }
   }
  },
  {
   "cell_type": "code",
   "execution_count": 132,
   "outputs": [],
   "source": [
    "import numpy as np\n",
    "def dataset(file_path):\n",
    "    name = []\n",
    "    information = []\n",
    "    with open(file_path,'r+') as f:\n",
    "        readers=csv.reader(f,delimiter=\",\")\n",
    "        x=list(readers)\n",
    "        data=np.array(x)\n",
    "        for line in data:\n",
    "            name.append(line[0])\n",
    "            information.append([np.double(line[i]) for i in range(1, len(line))])\n",
    "        return name, information"
   ],
   "metadata": {
    "collapsed": false,
    "pycharm": {
     "name": "#%%\n"
    }
   }
  },
  {
   "cell_type": "code",
   "execution_count": 134,
   "outputs": [
    {
     "name": "stdout",
     "output_type": "stream",
     "text": [
      "['0.203']\n",
      "['0.30', '0.25', '0.20']\n",
      "['0.80', '0.75', '0.70']\n",
      "['0.20']\n",
      "['4.10', '4.00', '3.90']\n",
      "['0.50', '0.40', '0.30']\n",
      "['0.75']\n",
      "['2.44', '2.30', '2.16']\n",
      "['0.05', '0.02']\n",
      "['0.50']\n",
      "['0.08']\n"
     ]
    }
   ],
   "source": [
    "from sklearn.cluster import KMeans\n",
    "name, information = dataset(pdf.metadata['Title']+\".csv\")\n",
    "n_clusters = 11\n",
    "km = KMeans(n_clusters=n_clusters)\n",
    "label = km.fit_predict(information)\n",
    "Cluster = [[] for _ in range(n_clusters)]\n",
    "for i in range(len(name)):\n",
    "    Cluster[label[i]].append(name[i])\n",
    "for i in range(len(Cluster)):\n",
    "    print(Cluster[i])"
   ],
   "metadata": {
    "collapsed": false,
    "pycharm": {
     "name": "#%%\n"
    }
   }
  },
  {
   "cell_type": "code",
   "execution_count": 133,
   "outputs": [],
   "source": [],
   "metadata": {
    "collapsed": false,
    "pycharm": {
     "name": "#%%\n"
    }
   }
  }
 ],
 "metadata": {
  "kernelspec": {
   "display_name": "Python 3",
   "language": "python",
   "name": "python3"
  },
  "language_info": {
   "codemirror_mode": {
    "name": "ipython",
    "version": 2
   },
   "file_extension": ".py",
   "mimetype": "text/x-python",
   "name": "python",
   "nbconvert_exporter": "python",
   "pygments_lexer": "ipython2",
   "version": "2.7.6"
  }
 },
 "nbformat": 4,
 "nbformat_minor": 0
}